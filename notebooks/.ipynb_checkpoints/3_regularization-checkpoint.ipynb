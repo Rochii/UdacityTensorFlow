{
 "cells": [
  {
   "cell_type": "markdown",
   "metadata": {
    "colab_type": "text",
    "id": "kR-4eNdK6lYS"
   },
   "source": [
    "Deep Learning\n",
    "=============\n",
    "\n",
    "Assignment 3\n",
    "------------\n",
    "\n",
    "Previously in `2_fullyconnected.ipynb`, you trained a logistic regression and a neural network model.\n",
    "\n",
    "The goal of this assignment is to explore regularization techniques."
   ]
  },
  {
   "cell_type": "code",
   "execution_count": 52,
   "metadata": {
    "cellView": "both",
    "colab": {
     "autoexec": {
      "startup": false,
      "wait_interval": 0
     }
    },
    "colab_type": "code",
    "id": "JLpLa8Jt7Vu4"
   },
   "outputs": [],
   "source": [
    "# These are all the modules we'll be using later. Make sure you can import them\n",
    "# before proceeding further.\n",
    "from __future__ import print_function\n",
    "import numpy as np\n",
    "import tensorflow as tf\n",
    "from six.moves import cPickle as pickle"
   ]
  },
  {
   "cell_type": "markdown",
   "metadata": {
    "colab_type": "text",
    "id": "1HrCK6e17WzV"
   },
   "source": [
    "First reload the data we generated in `1_notmnist.ipynb`."
   ]
  },
  {
   "cell_type": "code",
   "execution_count": 53,
   "metadata": {
    "cellView": "both",
    "colab": {
     "autoexec": {
      "startup": false,
      "wait_interval": 0
     },
     "output_extras": [
      {
       "item_id": 1
      }
     ]
    },
    "colab_type": "code",
    "executionInfo": {
     "elapsed": 11777,
     "status": "ok",
     "timestamp": 1449849322348,
     "user": {
      "color": "",
      "displayName": "",
      "isAnonymous": false,
      "isMe": true,
      "permissionId": "",
      "photoUrl": "",
      "sessionId": "0",
      "userId": ""
     },
     "user_tz": 480
    },
    "id": "y3-cj1bpmuxc",
    "outputId": "e03576f1-ebbe-4838-c388-f1777bcc9873"
   },
   "outputs": [
    {
     "name": "stdout",
     "output_type": "stream",
     "text": [
      "Training set (200000, 28, 28) (200000,)\n",
      "Validation set (10000, 28, 28) (10000,)\n",
      "Test set (10000, 28, 28) (10000,)\n"
     ]
    }
   ],
   "source": [
    "pickle_file = '../datasets/notMNIST.pickle'\n",
    "\n",
    "with open(pickle_file, 'rb') as f:\n",
    "    save = pickle.load(f)\n",
    "    train_dataset = save['train_dataset']\n",
    "    train_labels = save['train_labels']\n",
    "    valid_dataset = save['valid_dataset']\n",
    "    valid_labels = save['valid_labels']\n",
    "    test_dataset = save['test_dataset']\n",
    "    test_labels = save['test_labels']\n",
    "    del save  # hint to help gc free up memory\n",
    "    print('Training set', train_dataset.shape, train_labels.shape)\n",
    "    print('Validation set', valid_dataset.shape, valid_labels.shape)\n",
    "    print('Test set', test_dataset.shape, test_labels.shape)"
   ]
  },
  {
   "cell_type": "markdown",
   "metadata": {
    "colab_type": "text",
    "id": "L7aHrm6nGDMB"
   },
   "source": [
    "Reformat into a shape that's more adapted to the models we're going to train:\n",
    "- data as a flat matrix,\n",
    "- labels as float 1-hot encodings."
   ]
  },
  {
   "cell_type": "code",
   "execution_count": 54,
   "metadata": {
    "cellView": "both",
    "colab": {
     "autoexec": {
      "startup": false,
      "wait_interval": 0
     },
     "output_extras": [
      {
       "item_id": 1
      }
     ]
    },
    "colab_type": "code",
    "executionInfo": {
     "elapsed": 11728,
     "status": "ok",
     "timestamp": 1449849322356,
     "user": {
      "color": "",
      "displayName": "",
      "isAnonymous": false,
      "isMe": true,
      "permissionId": "",
      "photoUrl": "",
      "sessionId": "0",
      "userId": ""
     },
     "user_tz": 480
    },
    "id": "IRSyYiIIGIzS",
    "outputId": "3f8996ee-3574-4f44-c953-5c8a04636582"
   },
   "outputs": [
    {
     "name": "stdout",
     "output_type": "stream",
     "text": [
      "Training set (200000, 784) (200000, 10)\n",
      "Validation set (10000, 784) (10000, 10)\n",
      "Test set (10000, 784) (10000, 10)\n"
     ]
    }
   ],
   "source": [
    "image_size = 28\n",
    "num_labels = 10\n",
    "\n",
    "def reformat(dataset, labels):\n",
    "    dataset = dataset.reshape((-1, image_size * image_size)).astype(np.float32)\n",
    "    # Map 1 to [0.0, 1.0, 0.0 ...], 2 to [0.0, 0.0, 1.0 ...]\n",
    "    labels = (np.arange(num_labels) == labels[:,None]).astype(np.float32)\n",
    "    return dataset, labels\n",
    "\n",
    "\n",
    "train_dataset, train_labels = reformat(train_dataset, train_labels)\n",
    "valid_dataset, valid_labels = reformat(valid_dataset, valid_labels)\n",
    "test_dataset, test_labels = reformat(test_dataset, test_labels)\n",
    "\n",
    "print('Training set', train_dataset.shape, train_labels.shape)\n",
    "print('Validation set', valid_dataset.shape, valid_labels.shape)\n",
    "print('Test set', test_dataset.shape, test_labels.shape)"
   ]
  },
  {
   "cell_type": "code",
   "execution_count": 55,
   "metadata": {
    "cellView": "both",
    "colab": {
     "autoexec": {
      "startup": false,
      "wait_interval": 0
     }
    },
    "colab_type": "code",
    "id": "RajPLaL_ZW6w"
   },
   "outputs": [],
   "source": [
    "def accuracy(predictions, labels):\n",
    "    return (100.0 * np.sum(np.argmax(predictions, 1) == np.argmax(labels, 1)) / predictions.shape[0])"
   ]
  },
  {
   "cell_type": "markdown",
   "metadata": {
    "colab_type": "text",
    "id": "sgLbUAQ1CW-1"
   },
   "source": [
    "---\n",
    "Problem 1\n",
    "---------\n",
    "\n",
    "Introduce and tune L2 regularization for both logistic and neural network models. Remember that L2 amounts to adding a penalty on the norm of the weights to the loss. In TensorFlow, you can compute the L2 loss for a tensor `t` using `nn.l2_loss(t)`. The right amount of regularization should improve your validation / test accuracy.\n",
    "\n",
    "---"
   ]
  },
  {
   "cell_type": "markdown",
   "metadata": {},
   "source": [
    "### Multinomial logistic regression with L2 loss function"
   ]
  },
  {
   "cell_type": "markdown",
   "metadata": {},
   "source": [
    "1. Load Data & Build Computation Graph "
   ]
  },
  {
   "cell_type": "code",
   "execution_count": 30,
   "metadata": {},
   "outputs": [],
   "source": [
    "# This is to expedite the process \n",
    "train_subset = 10000\n",
    "# This is a good beta value to start with\n",
    "beta = 0.01\n",
    "\n",
    "graph = tf.Graph()\n",
    "with graph.as_default():\n",
    "\n",
    "    # Input data.\n",
    "    # They're all constants.\n",
    "    tf_train_dataset = tf.constant(train_dataset[:train_subset, :])\n",
    "    tf_train_labels = tf.constant(train_labels[:train_subset])\n",
    "    tf_valid_dataset = tf.constant(valid_dataset)\n",
    "    tf_test_dataset = tf.constant(test_dataset)\n",
    "  \n",
    "    # Variables    \n",
    "    # They are variables we want to update and optimize.\n",
    "    weights = tf.Variable(tf.truncated_normal([image_size * image_size, num_labels]))\n",
    "    biases = tf.Variable(tf.zeros([num_labels]))\n",
    "  \n",
    "    # Training computation.\n",
    "    logits = tf.matmul(tf_train_dataset, weights) + biases \n",
    "    # Original loss function\n",
    "    loss = tf.reduce_mean(tf.nn.softmax_cross_entropy_with_logits(logits = logits, labels = tf_train_labels) )\n",
    "    # Loss function using L2 Regularization\n",
    "    regularizer = tf.nn.l2_loss(weights)\n",
    "    loss = tf.reduce_mean(loss + beta * regularizer)\n",
    "    \n",
    "    # Optimizer.\n",
    "    optimizer = tf.train.GradientDescentOptimizer(0.5).minimize(loss)\n",
    "  \n",
    "    # Predictions for the training, validation, and test data.\n",
    "    train_prediction = tf.nn.softmax(logits)\n",
    "    valid_prediction = tf.nn.softmax( tf.matmul(tf_valid_dataset, weights) + biases )\n",
    "    test_prediction = tf.nn.softmax(tf.matmul(tf_test_dataset, weights) + biases)"
   ]
  },
  {
   "cell_type": "markdown",
   "metadata": {},
   "source": [
    "1. Run Computation & Iterate "
   ]
  },
  {
   "cell_type": "code",
   "execution_count": 31,
   "metadata": {},
   "outputs": [
    {
     "name": "stdout",
     "output_type": "stream",
     "text": [
      "WARNING:tensorflow:From /home/local/LLEIDANET/rtruchero/anaconda3/lib/python3.6/site-packages/tensorflow/python/util/tf_should_use.py:118: initialize_all_variables (from tensorflow.python.ops.variables) is deprecated and will be removed after 2017-03-02.\n",
      "Instructions for updating:\n",
      "Use `tf.global_variables_initializer` instead.\n",
      "Initialized\n",
      "Loss at step 0: 48.200439453125\n",
      "Training accuracy: 8.9\n",
      "Validation accuracy: 11.4\n",
      "Loss at step 100: 12.010688781738281\n",
      "Training accuracy: 73.4\n",
      "Validation accuracy: 72.3\n",
      "Loss at step 200: 4.5269317626953125\n",
      "Training accuracy: 78.7\n",
      "Validation accuracy: 76.7\n",
      "Loss at step 300: 1.9923276901245117\n",
      "Training accuracy: 82.1\n",
      "Validation accuracy: 79.9\n",
      "Loss at step 400: 1.135324478149414\n",
      "Training accuracy: 83.6\n",
      "Validation accuracy: 81.1\n",
      "Loss at step 500: 0.8418242335319519\n",
      "Training accuracy: 84.1\n",
      "Validation accuracy: 81.5\n",
      "Loss at step 600: 0.7399826049804688\n",
      "Training accuracy: 84.1\n",
      "Validation accuracy: 81.8\n",
      "Loss at step 700: 0.7042816281318665\n",
      "Training accuracy: 84.3\n",
      "Validation accuracy: 81.8\n",
      "Loss at step 800: 0.6916594505310059\n",
      "Training accuracy: 84.3\n",
      "Validation accuracy: 81.8\n",
      "Test accuracy: 89.1\n"
     ]
    }
   ],
   "source": [
    "num_steps = 801\n",
    "\n",
    "def accuracy(predictions, labels):\n",
    "    return (100.0 * np.sum(np.argmax(predictions, 1) == np.argmax(labels, 1))\n",
    "            / predictions.shape[0])\n",
    "\n",
    "with tf.Session(graph=graph) as session:\n",
    "    # This is a one-time operation which ensures the parameters get initialized as\n",
    "    # we described in the graph: random weights for the matrix, zeros for the\n",
    "    # biases. \n",
    "    tf.initialize_all_variables().run()\n",
    "    print('Initialized')\n",
    "    for step in range(num_steps):\n",
    "        \n",
    "    # Run the computations. We tell .run() that we want to run the optimizer,\n",
    "    # and get the loss value and the training predictions returned as numpy\n",
    "    # arrays.\n",
    "        _, l, predictions = session.run([optimizer, loss, train_prediction])\n",
    "        if (step % 100 == 0):\n",
    "            print('Loss at step {}: {}'.format(step, l))\n",
    "            print('Training accuracy: {:.1f}'.format(accuracy(predictions, \n",
    "                                                         train_labels[:train_subset, :])))\n",
    "            # Calling .eval() on valid_prediction is basically like calling run(), but\n",
    "            # just to get that one numpy array. Note that it recomputes all its graph\n",
    "            # dependencies.\n",
    "            \n",
    "            # You don't have to do .eval above because we already ran the session for the\n",
    "            # train_prediction\n",
    "            print('Validation accuracy: {:.1f}'.format(accuracy(valid_prediction.eval(), \n",
    "                                                           valid_labels)))\n",
    "    print('Test accuracy: {:.1f}'.format(accuracy(test_prediction.eval(), test_labels)))"
   ]
  },
  {
   "cell_type": "markdown",
   "metadata": {},
   "source": [
    "### Neural Network with L2 Regularization"
   ]
  },
  {
   "cell_type": "markdown",
   "metadata": {},
   "source": [
    "1. Hidden Layer using RELUs"
   ]
  },
  {
   "cell_type": "code",
   "execution_count": 59,
   "metadata": {},
   "outputs": [],
   "source": [
    "num_nodes= 1024\n",
    "batch_size = 128\n",
    "beta = 0.01\n",
    "\n",
    "graph = tf.Graph()\n",
    "with graph.as_default():\n",
    "\n",
    "    # Input data. For the training data, we use a placeholder that will be fed\n",
    "    # at run time with a training minibatch.\n",
    "    tf_train_dataset = tf.placeholder(tf.float32, shape=(batch_size, image_size * image_size))\n",
    "    tf_train_labels = tf.placeholder(tf.float32, shape=(batch_size, num_labels))\n",
    "    tf_valid_dataset = tf.constant(valid_dataset)\n",
    "    tf_test_dataset = tf.constant(test_dataset)\n",
    "\n",
    "    # Variables.\n",
    "    weights_1 = tf.Variable(tf.truncated_normal([image_size * image_size, num_nodes]))\n",
    "    biases_1 = tf.Variable(tf.zeros([num_nodes]))\n",
    "    weights_2 = tf.Variable(tf.truncated_normal([num_nodes, num_labels]))\n",
    "    biases_2 = tf.Variable(tf.zeros([num_labels]))\n",
    "\n",
    "    # Training computation.\n",
    "    logits_1 = tf.matmul(tf_train_dataset, weights_1) + biases_1\n",
    "    relu_layer= tf.nn.relu(logits_1)\n",
    "    logits_2 = tf.matmul(relu_layer, weights_2) + biases_2\n",
    "    # Normal loss function\n",
    "    loss = tf.reduce_mean(tf.nn.softmax_cross_entropy_with_logits(logits = logits_2, labels = tf_train_labels))\n",
    "    # Loss function with L2 Regularization with beta=0.01\n",
    "    regularizers = tf.nn.l2_loss(weights_1) + tf.nn.l2_loss(weights_2)\n",
    "    loss = tf.reduce_mean(loss + beta * regularizers)\n",
    "\n",
    "    # Optimizer.\n",
    "    optimizer = tf.train.GradientDescentOptimizer(0.5).minimize(loss)\n",
    "\n",
    "    # Predictions for the training\n",
    "    train_prediction = tf.nn.softmax(logits_2)\n",
    "    \n",
    "    # Predictions for validation \n",
    "    logits_1 = tf.matmul(tf_valid_dataset, weights_1) + biases_1\n",
    "    relu_layer= tf.nn.relu(logits_1)\n",
    "    logits_2 = tf.matmul(relu_layer, weights_2) + biases_2\n",
    "    \n",
    "    valid_prediction = tf.nn.softmax(logits_2)\n",
    "    \n",
    "    # Predictions for test\n",
    "    logits_1 = tf.matmul(tf_test_dataset, weights_1) + biases_1\n",
    "    relu_layer= tf.nn.relu(logits_1)\n",
    "    logits_2 = tf.matmul(relu_layer, weights_2) + biases_2\n",
    "    \n",
    "    test_prediction =  tf.nn.softmax(logits_2)"
   ]
  },
  {
   "cell_type": "code",
   "execution_count": 34,
   "metadata": {},
   "outputs": [
    {
     "name": "stdout",
     "output_type": "stream",
     "text": [
      "Initialized\n",
      "Minibatch loss at step 0: 3572.76025390625\n",
      "Minibatch accuracy: 4.7\n",
      "Validation accuracy: 33.4\n",
      "Minibatch loss at step 500: 21.201051712036133\n",
      "Minibatch accuracy: 85.2\n",
      "Validation accuracy: 83.9\n",
      "Minibatch loss at step 1000: 1.042095422744751\n",
      "Minibatch accuracy: 79.7\n",
      "Validation accuracy: 83.5\n",
      "Minibatch loss at step 1500: 0.5904988050460815\n",
      "Minibatch accuracy: 86.7\n",
      "Validation accuracy: 83.7\n",
      "Minibatch loss at step 2000: 0.7939768433570862\n",
      "Minibatch accuracy: 83.6\n",
      "Validation accuracy: 82.8\n",
      "Minibatch loss at step 2500: 0.7265033721923828\n",
      "Minibatch accuracy: 83.6\n",
      "Validation accuracy: 83.7\n",
      "Minibatch loss at step 3000: 0.6933944225311279\n",
      "Minibatch accuracy: 88.3\n",
      "Validation accuracy: 83.5\n",
      "Test accuracy: 90.5\n"
     ]
    }
   ],
   "source": [
    "num_steps = 3001\n",
    "\n",
    "with tf.Session(graph=graph) as session:\n",
    "    tf.initialize_all_variables().run()\n",
    "    print(\"Initialized\")\n",
    "    for step in range(num_steps):\n",
    "        # Pick an offset within the training data, which has been randomized.\n",
    "        # Note: we could use better randomization across epochs.\n",
    "        offset = (step * batch_size) % (train_labels.shape[0] - batch_size)\n",
    "        \n",
    "        # Generate a minibatch.\n",
    "        batch_data = train_dataset[offset:(offset + batch_size), :]\n",
    "        batch_labels = train_labels[offset:(offset + batch_size), :]\n",
    "        \n",
    "        # Prepare a dictionary telling the session where to feed the minibatch.\n",
    "        # The key of the dictionary is the placeholder node of the graph to be fed,\n",
    "        # and the value is the numpy array to feed to it.\n",
    "        feed_dict = {\n",
    "            tf_train_dataset : batch_data,\n",
    "            tf_train_labels : batch_labels\n",
    "        }\n",
    "        \n",
    "        _, l, predictions = session.run([optimizer, loss, train_prediction], feed_dict = feed_dict)\n",
    "        \n",
    "        if (step % 500 == 0):\n",
    "            print(\"Minibatch loss at step {}: {}\".format(step, l))\n",
    "            print(\"Minibatch accuracy: {:.1f}\".format(accuracy(predictions, batch_labels)))\n",
    "            print(\"Validation accuracy: {:.1f}\".format(accuracy(valid_prediction.eval(), valid_labels)))\n",
    "    print(\"Test accuracy: {:.1f}\".format(accuracy(test_prediction.eval(), test_labels)))"
   ]
  },
  {
   "cell_type": "markdown",
   "metadata": {
    "colab_type": "text",
    "id": "na8xX2yHZzNF"
   },
   "source": [
    "---\n",
    "Problem 2\n",
    "---------\n",
    "Let's demonstrate an extreme case of overfitting. Restrict your training data to just a few batches. What happens?\n",
    "\n",
    "---"
   ]
  },
  {
   "cell_type": "markdown",
   "metadata": {},
   "source": [
    "Continuing from the Neural Network with L2 Regularization above\n"
   ]
  },
  {
   "cell_type": "code",
   "execution_count": 35,
   "metadata": {},
   "outputs": [
    {
     "name": "stdout",
     "output_type": "stream",
     "text": [
      "Initialized\n",
      "Minibatch loss at step 0: 3523.4013671875\n",
      "Minibatch accuracy: 9.4\n",
      "Validation accuracy: 39.9\n",
      "Minibatch loss at step 500: 21.044963836669922\n",
      "Minibatch accuracy: 100.0\n",
      "Validation accuracy: 76.8\n",
      "Minibatch loss at step 1000: 0.4778369963169098\n",
      "Minibatch accuracy: 99.2\n",
      "Validation accuracy: 77.5\n",
      "Minibatch loss at step 1500: 0.29393166303634644\n",
      "Minibatch accuracy: 99.2\n",
      "Validation accuracy: 77.3\n",
      "Minibatch loss at step 2000: 0.2774410843849182\n",
      "Minibatch accuracy: 100.0\n",
      "Validation accuracy: 77.1\n",
      "Minibatch loss at step 2500: 0.2704417109489441\n",
      "Minibatch accuracy: 100.0\n",
      "Validation accuracy: 77.2\n",
      "Minibatch loss at step 3000: 0.2688320279121399\n",
      "Minibatch accuracy: 100.0\n",
      "Validation accuracy: 77.4\n",
      "Test accuracy: 85.1\n"
     ]
    }
   ],
   "source": [
    "num_steps = 3001\n",
    "\n",
    "train_dataset_2 = train_dataset[:500, :]\n",
    "train_labels_2 = train_labels[:500]\n",
    "\n",
    "with tf.Session(graph = graph) as session:\n",
    "    tf.initialize_all_variables().run()\n",
    "    print(\"Initialized\")\n",
    "    for step in range(num_steps):\n",
    "        offset = (step * batch_size) % (train_labels_2.shape[0] - batch_size)\n",
    "\n",
    "        batch_data = train_dataset_2[offset:(offset + batch_size), :]\n",
    "        batch_labels = train_labels_2[offset:(offset + batch_size), :]\n",
    "        \n",
    "        feed_dict = {\n",
    "            tf_train_dataset : batch_data, \n",
    "            tf_train_labels : batch_labels\n",
    "        }\n",
    "        \n",
    "        _, l, predictions = session.run([optimizer, loss, train_prediction], feed_dict = feed_dict)\n",
    "        \n",
    "        if (step % 500 == 0):\n",
    "            print(\"Minibatch loss at step {}: {}\".format(step, l))\n",
    "            print(\"Minibatch accuracy: {:.1f}\".format(accuracy(predictions, batch_labels)))\n",
    "            print(\"Validation accuracy: {:.1f}\".format(accuracy(valid_prediction.eval(), valid_labels)))\n",
    "    print(\"Test accuracy: {:.1f}\".format(accuracy(test_prediction.eval(), test_labels)))"
   ]
  },
  {
   "cell_type": "markdown",
   "metadata": {},
   "source": [
    "As you can see, there's high training accuracy but low validation accuracy. There is overfitting here."
   ]
  },
  {
   "cell_type": "markdown",
   "metadata": {
    "colab_type": "text",
    "id": "ww3SCBUdlkRc"
   },
   "source": [
    "---\n",
    "Problem 3\n",
    "---------\n",
    "Introduce Dropout on the hidden layer of the neural network. Remember: Dropout should only be introduced during training, not evaluation, otherwise your evaluation results would be stochastic as well. TensorFlow provides `nn.dropout()` for that, but you have to make sure it's only inserted during training.\n",
    "\n",
    "What happens to our extreme overfitting case?\n",
    "\n",
    "---"
   ]
  },
  {
   "cell_type": "code",
   "execution_count": 61,
   "metadata": {},
   "outputs": [],
   "source": [
    "num_nodes = 1024\n",
    "batch_size = 128\n",
    "beta = 0.01\n",
    "\n",
    "graph = tf.Graph()\n",
    "with graph.as_default():\n",
    "    # Input data\n",
    "    tf_train_dataset = tf.placeholder(tf.float32, shape=(batch_size, image_size * image_size))\n",
    "    tf_train_labels = tf.placeholder(tf.float32, shape=(batch_size, num_labels))\n",
    "    tf_valid_dataset = tf.constant(valid_dataset)\n",
    "    tf_test_dataset = tf.constant(test_dataset)\n",
    "\n",
    "    # Variables.\n",
    "    weights_1 = tf.Variable(tf.truncated_normal([image_size * image_size, num_nodes]))\n",
    "    biases_1 = tf.Variable(tf.zeros([num_nodes]))\n",
    "    weights_2 = tf.Variable(tf.truncated_normal([num_nodes, num_labels]))\n",
    "    biases_2 = tf.Variable(tf.zeros([num_labels]))\n",
    "    \n",
    "    # Training computation.\n",
    "    logits_1 = tf.matmul(tf_train_dataset, weights_1) + biases_1\n",
    "    relu_layer= tf.nn.relu(logits_1)\n",
    "    # Dropout on hidden layer: RELU layer\n",
    "    keep_prob = tf.placeholder(\"float\")\n",
    "    relu_layer_dropout = tf.nn.dropout(relu_layer, keep_prob)\n",
    "    \n",
    "    logits_2 = tf.matmul(relu_layer_dropout, weights_2) + biases_2\n",
    "    # Normal loss function\n",
    "    loss = tf.reduce_mean(tf.nn.softmax_cross_entropy_with_logits(logits = logits_2, labels = tf_train_labels))\n",
    "    \n",
    "    # Loss function with L2 Regularization with beta = 0.01\n",
    "    regularizers = tf.nn.l2_loss(weights_1) + tf.nn.l2_loss(weights_2)\n",
    "    loss = tf.reduce_mean(loss + beta * regularizers)\n",
    "    \n",
    "    # Gradient Descent Optimizer\n",
    "    optimizer = tf.train.GradientDescentOptimizer(0.5).minimize(loss)\n",
    "    \n",
    "    # Predictions for the training\n",
    "    train_prediction = tf.nn.softmax(logits_2)\n",
    "    \n",
    "    # Predictions for validation\n",
    "    logits_1 = tf.matmul(tf_valid_dataset, weights_1) + biases_1\n",
    "    relu_layer = tf.nn.relu(logits_1)\n",
    "    logits_2 = tf.matmul(relu_layer, weights_2) + biases_2\n",
    "    \n",
    "    valid_prediction = tf.nn.softmax(logits_2)\n",
    "    \n",
    "    # Prediction for testing\n",
    "    logits_1 = tf.matmul(tf_test_dataset, weights_1) + biases_1\n",
    "    relu_layer = tf.nn.relu(logits_1)\n",
    "    logits_2 = tf.matmul(relu_layer, weights_2) + biases_2\n",
    "    \n",
    "    test_prediction = tf.nn.softmax(logits_2)"
   ]
  },
  {
   "cell_type": "code",
   "execution_count": 62,
   "metadata": {},
   "outputs": [
    {
     "name": "stdout",
     "output_type": "stream",
     "text": [
      "Initialized\n",
      "Minibatch loss at step 0: 3712.36474609375\n",
      "Minibatch accuracy: 8.6\n",
      "Validation accuracy: 32.2\n",
      "Minibatch loss at step 500: 21.449447631835938\n",
      "Minibatch accuracy: 85.2\n",
      "Validation accuracy: 83.7\n",
      "Minibatch loss at step 1000: 1.0976173877716064\n",
      "Minibatch accuracy: 76.6\n",
      "Validation accuracy: 82.8\n",
      "Minibatch loss at step 1500: 0.6690046191215515\n",
      "Minibatch accuracy: 85.9\n",
      "Validation accuracy: 83.0\n",
      "Minibatch loss at step 2000: 0.8881542682647705\n",
      "Minibatch accuracy: 78.9\n",
      "Validation accuracy: 82.6\n",
      "Minibatch loss at step 2500: 0.828192412853241\n",
      "Minibatch accuracy: 82.0\n",
      "Validation accuracy: 83.3\n",
      "Minibatch loss at step 3000: 0.7499359250068665\n",
      "Minibatch accuracy: 86.7\n",
      "Validation accuracy: 83.0\n",
      "Test accuracy: 89.7\n"
     ]
    }
   ],
   "source": [
    "num_steps = 3001\n",
    "\n",
    "with tf.Session(graph = graph) as session:\n",
    "    tf.initialize_all_variables().run()\n",
    "    print(\"Initialized\")\n",
    "    for step in range(num_steps):\n",
    "        offset = (step * batch_size) % (train_labels.shape[0] - batch_size)\n",
    "        \n",
    "        batch_data = train_dataset[offset:(offset + batch_size), :]\n",
    "        batch_labels = train_labels[offset:(offset + batch_size), :]\n",
    "        \n",
    "        feed_dict = {\n",
    "            tf_train_dataset : batch_data,\n",
    "            tf_train_labels : batch_labels,\n",
    "            keep_prob : 0.5\n",
    "        }\n",
    "        \n",
    "        _, l, predictions = session.run([optimizer, loss, train_prediction], feed_dict = feed_dict)\n",
    "        \n",
    "        if(step % 500 == 0):\n",
    "            print(\"Minibatch loss at step {}: {}\".format(step, l))\n",
    "            print(\"Minibatch accuracy: {:.1f}\".format(accuracy(predictions, batch_labels)))\n",
    "            print(\"Validation accuracy: {:.1f}\".format(accuracy(valid_prediction.eval(), valid_labels)))\n",
    "    print(\"Test accuracy: {:.1f}\".format(accuracy(test_prediction.eval(), test_labels)))"
   ]
  },
  {
   "cell_type": "markdown",
   "metadata": {},
   "source": [
    "### Extreme Overfitting"
   ]
  },
  {
   "cell_type": "code",
   "execution_count": 43,
   "metadata": {},
   "outputs": [
    {
     "name": "stdout",
     "output_type": "stream",
     "text": [
      "Initialized\n",
      "Minibatch loss at step 0: 3648.052734375\n",
      "Minibatch accuracy: 7.8\n",
      "Validation accuracy: 29.6\n",
      "Minibatch loss at step 500: 21.107208251953125\n",
      "Minibatch accuracy: 100.0\n",
      "Validation accuracy: 77.5\n",
      "Minibatch loss at step 1000: 0.5123964548110962\n",
      "Minibatch accuracy: 99.2\n",
      "Validation accuracy: 77.7\n",
      "Minibatch loss at step 1500: 0.31300097703933716\n",
      "Minibatch accuracy: 98.4\n",
      "Validation accuracy: 77.5\n",
      "Minibatch loss at step 2000: 0.298507422208786\n",
      "Minibatch accuracy: 100.0\n",
      "Validation accuracy: 77.5\n",
      "Minibatch loss at step 2500: 0.29797106981277466\n",
      "Minibatch accuracy: 99.2\n",
      "Validation accuracy: 77.5\n",
      "Minibatch loss at step 3000: 0.2837548851966858\n",
      "Minibatch accuracy: 100.0\n",
      "Validation accuracy: 77.6\n",
      "Test accuracy: 85.2\n"
     ]
    }
   ],
   "source": [
    "num_steps = 3001\n",
    "beta = 0.01\n",
    "\n",
    "train_dataset_2 = train_dataset[:500, :]\n",
    "train_labels_2 = train_labels[:500]\n",
    "\n",
    "with tf.Session(graph = graph) as session:\n",
    "    tf.initialize_all_variables().run()\n",
    "    print(\"Initialized\")\n",
    "    for step in range(num_steps):\n",
    "        offset = (step * batch_size) % (train_labels_2.shape[0] - batch_size)\n",
    "        \n",
    "        batch_data = train_dataset_2[offset:(offset + batch_size), :]\n",
    "        batch_labels = train_labels_2[offset:(offset + batch_size), :]\n",
    "        \n",
    "        feed_dict = {\n",
    "            tf_train_dataset: batch_data,\n",
    "            tf_train_labels: batch_labels,\n",
    "            keep_prob : 0.5\n",
    "        }\n",
    "        \n",
    "        _, l, predictions = session.run([optimizer, loss, train_prediction], feed_dict = feed_dict)\n",
    "        \n",
    "        if(step % 500 == 0):\n",
    "            print(\"Minibatch loss at step {}: {}\".format(step, l))\n",
    "            print(\"Minibatch accuracy: {:.1f}\".format(accuracy(predictions, batch_labels)))\n",
    "            print(\"Validation accuracy: {:.1f}\".format(accuracy(valid_prediction.eval(), valid_labels)))\n",
    "    print(\"Test accuracy: {:.1f}\".format(accuracy(test_prediction.eval(), test_labels)))"
   ]
  },
  {
   "cell_type": "markdown",
   "metadata": {
    "colab_type": "text",
    "id": "-b1hTz3VWZjw"
   },
   "source": [
    "---\n",
    "Problem 4\n",
    "---------\n",
    "\n",
    "Try to get the best performance you can using a multi-layer model! The best reported test accuracy using a deep network is [97.1%](http://yaroslavvb.blogspot.com/2011/09/notmnist-dataset.html?showComment=1391023266211#c8758720086795711595).\n",
    "\n",
    "One avenue you can explore is to add multiple layers.\n",
    "\n",
    "Another one is to use learning rate decay:\n",
    "\n",
    "    global_step = tf.Variable(0)  # count the number of steps taken.\n",
    "    learning_rate = tf.train.exponential_decay(0.5, global_step, ...)\n",
    "    optimizer = tf.train.GradientDescentOptimizer(learning_rate).minimize(loss, global_step=global_step)\n",
    " \n",
    " ---\n"
   ]
  },
  {
   "cell_type": "markdown",
   "metadata": {},
   "source": [
    "### Model\n",
    "* 5 hidden layers NN\n",
    "    * RELUs\n",
    "    * Number of nodes decrease by 50% with each hidden layer that is deeper in the neural net   \n",
    "* Overfitting measures\n",
    "    * L2 Regularization\n",
    "        * Learning rate (beta) with exponential decay\n",
    "    * Dropout\n",
    "* 15000 steps"
   ]
  },
  {
   "cell_type": "code",
   "execution_count": 64,
   "metadata": {},
   "outputs": [],
   "source": [
    "import math"
   ]
  },
  {
   "cell_type": "code",
   "execution_count": 71,
   "metadata": {},
   "outputs": [],
   "source": [
    "batch_size = 128\n",
    "beta = 0.001\n",
    "\n",
    "hidden_nodes_1 = 1024\n",
    "hidden_nodes_2 = int(hidden_nodes_1 * 0.5) # 512\n",
    "hidden_nodes_3 = int(hidden_nodes_1 * np.power(0.5, 2)) # 256\n",
    "hidden_nodes_4 = int(hidden_nodes_1 * np.power(0.5, 3)) # 128\n",
    "hidden_nodes_5 = int(hidden_nodes_1 * np.power(0.5, 4)) # 64\n",
    "\n",
    "graph = tf.Graph()\n",
    "with graph.as_default():\n",
    "    ''' Input data '''\n",
    "    tf_train_dataset = tf.placeholder(tf.float32, shape=(batch_size, image_size * image_size))\n",
    "    tf_train_labels = tf.placeholder(tf.float32, shape=(batch_size, num_labels))\n",
    "    tf_valid_dataset = tf.constant(valid_dataset)\n",
    "    tf_test_dataset = tf.constant(test_dataset)\n",
    "    \n",
    "    ''' Variables '''\n",
    "    # Hidden RELU layer 1\n",
    "    weights_1 = tf.Variable(tf.truncated_normal([image_size * image_size, hidden_nodes_1], stddev = math.sqrt(2.0/(image_size * image_size))))\n",
    "    biases_1 = tf.Variable(tf.zeros([hidden_nodes_1]))\n",
    "\n",
    "    # Hidden RELU layer 2\n",
    "    weights_2 = tf.Variable(tf.truncated_normal([hidden_nodes_1, hidden_nodes_2], stddev=math.sqrt(2.0 / hidden_nodes_1)))\n",
    "    biases_2 = tf.Variable(tf.zeros([hidden_nodes_2]))\n",
    "    \n",
    "    # Hidden RELU layer 3\n",
    "    weights_3 = tf.Variable(tf.truncated_normal([hidden_nodes_2, hidden_nodes_3], stddev=math.sqrt(2.0 / hidden_nodes_2)))\n",
    "    biases_3 = tf.Variable(tf.zeros([hidden_nodes_3]))\n",
    "    \n",
    "    # Hidden RELU layer 4\n",
    "    weights_4 = tf.Variable(tf.truncated_normal([hidden_nodes_3, hidden_nodes_4], stddev=math.sqrt(2.0 / hidden_nodes_3)))\n",
    "    biases_4 = tf.Variable(tf.zeros([hidden_nodes_4]))\n",
    "    \n",
    "    # Hidden RELU layer 5\n",
    "    weights_5 = tf.Variable(tf.truncated_normal([hidden_nodes_4, hidden_nodes_5], stddev=math.sqrt(2.0 / hidden_nodes_4)))\n",
    "    biases_5 = tf.Variable(tf.zeros([hidden_nodes_5]))\n",
    "    \n",
    "    # Output layer\n",
    "    weights_6 = tf.Variable(tf.truncated_normal([hidden_nodes_5, num_labels], stddev=math.sqrt(2.0 / hidden_nodes_5)))\n",
    "    biases_6 = tf.Variable(tf.zeros([num_labels]))\n",
    "    \n",
    "    \n",
    "    ''' Training computation '''\n",
    "    # Hidden RELU layer 1\n",
    "    logits_1 = tf.matmul(tf_train_dataset, weights_1) + biases_1\n",
    "    hidden_layer_1 = tf.nn.relu(logits_1)\n",
    "    # Droupout on hidden layer 1\n",
    "    keep_prob = tf.placeholder(\"float\")\n",
    "    hidden_layer_dropout_1 = tf.nn.dropout(hidden_layer_1, keep_prob)\n",
    "    \n",
    "    # Hidden RELU layer 2\n",
    "    logits_2 = tf.matmul(hidden_layer_1, weights_2) + biases_2\n",
    "    hidden_layer_2 = tf.nn.relu(logits_2)\n",
    "    # Dropout on hidden layer 2\n",
    "    hidden_layer_dropout_2 = tf.nn.dropout(hidden_layer_2, keep_prob)\n",
    "    \n",
    "    # Hidden RELU layer 3\n",
    "    logits_3 = tf.matmul(hidden_layer_2, weights_3) + biases_3\n",
    "    hidden_layer_3 = tf.nn.relu(logits_3)\n",
    "    # Dropout on hidden layer 3\n",
    "    hidden_layer_dropout_3 = tf.nn.dropout(hidden_layer_3, keep_prob)\n",
    "    \n",
    "    # Hidden RELU layer 4\n",
    "    logits_4 = tf.matmul(hidden_layer_3, weights_4) + biases_4\n",
    "    hidden_layer_4 = tf.nn.relu(logits_4)\n",
    "    # Dropout on hidden layer 4\n",
    "    hidden_layer_dropout_4 = tf.nn.dropout(hidden_layer_4, keep_prob)\n",
    "    \n",
    "    # Hidden RELU layer 5\n",
    "    logits_5 = tf.matmul(hidden_layer_4, weights_5) + biases_5\n",
    "    hidden_layer_5 = tf.nn.relu(logits_5)\n",
    "    # Dropout on hidden layer 5\n",
    "    hidden_layer_dropout_5 = tf.nn.dropout(hidden_layer_5, keep_prob)\n",
    "        \n",
    "    # Output layer\n",
    "    logits_6 = tf.matmul(hidden_layer_5, weights_6) + biases_6\n",
    "    \n",
    "    # Normal loss function \n",
    "    loss = tf.reduce_mean(tf.nn.softmax_cross_entropy_with_logits(logits = logits_6, labels = tf_train_labels))\n",
    "    \n",
    "    # Loss function with L2 Regularization with decaying learning rate = 0.5\n",
    "    regularizers = tf.nn.l2_loss(weights_1) + tf.nn.l2_loss(weights_2) + tf.nn.l2_loss(weights_3) + \\\n",
    "                   tf.nn.l2_loss(weights_4) + tf.nn.l2_loss(weights_5) + tf.nn.l2_loss(weights_6)\n",
    "    loss = tf.reduce_mean(loss + beta * regularizers)\n",
    "    \n",
    "    ''' Optimizer '''\n",
    "    # Decaying learning rate\n",
    "    global_step = tf.Variable(0)  # count the number of steps taken.\n",
    "    start_learning_rate = 0.5\n",
    "    learning_rate = tf.train.exponential_decay(start_learning_rate, global_step, 100000, 0.96, staircase = True)\n",
    "    optimizer = tf.train.GradientDescentOptimizer(learning_rate).minimize(loss, global_step = global_step)\n",
    "    \n",
    "    # Predictions for the training \n",
    "    train_prediction = tf.nn.softmax(logits_6)\n",
    "    \n",
    "    # Predictions for validation\n",
    "    valid_logits_1 = tf.matmul(tf_valid_dataset, weights_1) + biases_1\n",
    "    valid_relu_1 = tf.nn.relu(valid_logits_1)\n",
    "    \n",
    "    valid_logits_2 = tf.matmul(valid_relu_1, weights_2) + biases_2\n",
    "    valid_relu_2 = tf.nn.relu(valid_logits_2)\n",
    "    \n",
    "    valid_logits_3 = tf.matmul(valid_relu_2, weights_3) + biases_3\n",
    "    valid_relu_3 = tf.nn.relu(valid_logits_3)\n",
    "    \n",
    "    valid_logits_4 = tf.matmul(valid_relu_3, weights_4) + biases_4\n",
    "    valid_relu_4 = tf.nn.relu(valid_logits_4)\n",
    "    \n",
    "    valid_logits_5 = tf.matmul(valid_relu_4, weights_5) + biases_5\n",
    "    valid_relu_5 = tf.nn.relu(valid_logits_5)\n",
    "    \n",
    "    valid_logits_6 = tf.matmul(valid_relu_5, weights_6) + biases_6\n",
    "    \n",
    "    valid_prediction = tf.nn.softmax(valid_logits_6)\n",
    "    \n",
    "    # Predictions for test\n",
    "    test_logits_1 = tf.matmul(tf_test_dataset, weights_1) + biases_1\n",
    "    test_relu_1 = tf.nn.relu(test_logits_1)\n",
    "    \n",
    "    test_logits_2 = tf.matmul(test_relu_1, weights_2) + biases_2\n",
    "    test_relu_2 = tf.nn.relu(test_logits_2)\n",
    "    \n",
    "    test_logits_3 = tf.matmul(test_relu_2, weights_3) + biases_3\n",
    "    test_relu_3 = tf.nn.relu(test_logits_3)\n",
    "    \n",
    "    test_logits_4 = tf.matmul(test_relu_3, weights_4) + biases_4\n",
    "    test_relu_4 = tf.nn.relu(test_logits_4)\n",
    "    \n",
    "    test_logits_5 = tf.matmul(test_relu_4, weights_5) + biases_5\n",
    "    test_relu_5 = tf.nn.relu(test_logits_5)\n",
    "    \n",
    "    test_logits_6 = tf.matmul(test_relu_5, weights_6) + biases_6\n",
    "    \n",
    "    test_prediction = tf.nn.softmax(test_logits_6)"
   ]
  },
  {
   "cell_type": "code",
   "execution_count": 72,
   "metadata": {},
   "outputs": [
    {
     "name": "stdout",
     "output_type": "stream",
     "text": [
      "Initialized\n",
      "Minibatch loss at step 0: 3.8455111980438232\n",
      "Minibatch accuracy: 11.7\n",
      "Validation accuracy: 28.9\n",
      "Minibatch loss at step 500: 1.3970248699188232\n",
      "Minibatch accuracy: 86.7\n",
      "Validation accuracy: 84.6\n",
      "Minibatch loss at step 1000: 1.2424042224884033\n",
      "Minibatch accuracy: 82.0\n",
      "Validation accuracy: 86.2\n",
      "Minibatch loss at step 1500: 0.7393879890441895\n",
      "Minibatch accuracy: 92.2\n",
      "Validation accuracy: 87.3\n",
      "Minibatch loss at step 2000: 0.7591989040374756\n",
      "Minibatch accuracy: 86.7\n",
      "Validation accuracy: 87.2\n",
      "Minibatch loss at step 2500: 0.6282463669776917\n",
      "Minibatch accuracy: 90.6\n",
      "Validation accuracy: 88.1\n",
      "Minibatch loss at step 3000: 0.4575735330581665\n",
      "Minibatch accuracy: 89.8\n",
      "Validation accuracy: 87.1\n",
      "Minibatch loss at step 3500: 0.5076366662979126\n",
      "Minibatch accuracy: 90.6\n",
      "Validation accuracy: 87.5\n",
      "Minibatch loss at step 4000: 0.5945284962654114\n",
      "Minibatch accuracy: 85.2\n",
      "Validation accuracy: 87.1\n",
      "Minibatch loss at step 4500: 0.5303865075111389\n",
      "Minibatch accuracy: 88.3\n",
      "Validation accuracy: 87.9\n",
      "Minibatch loss at step 5000: 0.4941411018371582\n",
      "Minibatch accuracy: 91.4\n",
      "Validation accuracy: 87.9\n",
      "Minibatch loss at step 5500: 0.5435501337051392\n",
      "Minibatch accuracy: 89.1\n",
      "Validation accuracy: 88.9\n",
      "Minibatch loss at step 6000: 0.44440269470214844\n",
      "Minibatch accuracy: 88.3\n",
      "Validation accuracy: 88.5\n",
      "Minibatch loss at step 6500: 0.47263532876968384\n",
      "Minibatch accuracy: 89.8\n",
      "Validation accuracy: 88.8\n",
      "Minibatch loss at step 7000: 0.3860130310058594\n",
      "Minibatch accuracy: 93.8\n",
      "Validation accuracy: 89.5\n",
      "Minibatch loss at step 7500: 0.5781570076942444\n",
      "Minibatch accuracy: 88.3\n",
      "Validation accuracy: 87.9\n",
      "Minibatch loss at step 8000: 0.39367374777793884\n",
      "Minibatch accuracy: 93.0\n",
      "Validation accuracy: 87.4\n",
      "Minibatch loss at step 8500: 0.5018119215965271\n",
      "Minibatch accuracy: 89.1\n",
      "Validation accuracy: 83.9\n",
      "Minibatch loss at step 9000: 0.6128273010253906\n",
      "Minibatch accuracy: 85.2\n",
      "Validation accuracy: 87.0\n",
      "Minibatch loss at step 9500: 0.6242845058441162\n",
      "Minibatch accuracy: 85.2\n",
      "Validation accuracy: 87.9\n",
      "Minibatch loss at step 10000: 0.416991263628006\n",
      "Minibatch accuracy: 93.0\n",
      "Validation accuracy: 89.0\n",
      "Minibatch loss at step 10500: 0.5534632205963135\n",
      "Minibatch accuracy: 85.2\n",
      "Validation accuracy: 87.6\n",
      "Minibatch loss at step 11000: 0.4876970052719116\n",
      "Minibatch accuracy: 89.8\n",
      "Validation accuracy: 89.2\n",
      "Minibatch loss at step 11500: 0.49304383993148804\n",
      "Minibatch accuracy: 89.1\n",
      "Validation accuracy: 88.8\n",
      "Minibatch loss at step 12000: 0.5635151863098145\n",
      "Minibatch accuracy: 88.3\n",
      "Validation accuracy: 88.3\n",
      "Minibatch loss at step 12500: 0.4134014844894409\n",
      "Minibatch accuracy: 93.0\n",
      "Validation accuracy: 88.3\n",
      "Minibatch loss at step 13000: 0.443729043006897\n",
      "Minibatch accuracy: 89.8\n",
      "Validation accuracy: 88.2\n",
      "Minibatch loss at step 13500: 0.584305465221405\n",
      "Minibatch accuracy: 88.3\n",
      "Validation accuracy: 88.4\n",
      "Minibatch loss at step 14000: 0.5092701315879822\n",
      "Minibatch accuracy: 85.9\n",
      "Validation accuracy: 88.6\n",
      "Minibatch loss at step 14500: 0.3819904625415802\n",
      "Minibatch accuracy: 92.2\n",
      "Validation accuracy: 89.1\n",
      "Test accuracy: 94.3\n"
     ]
    }
   ],
   "source": [
    "num_steps = 15000\n",
    "\n",
    "with tf.Session(graph = graph) as session:\n",
    "    tf.initialize_all_variables().run()\n",
    "    print(\"Initialized\")\n",
    "    for step in range(num_steps):\n",
    "        offset = (step * batch_size) % (train_labels.shape[0] - batch_size)\n",
    "        \n",
    "        batch_data = train_dataset[offset:(offset + batch_size), :]\n",
    "        batch_labels = train_labels[offset:(offset + batch_size), :]\n",
    "        \n",
    "        feed_dict = {\n",
    "            tf_train_dataset : batch_data, \n",
    "            tf_train_labels : batch_labels, \n",
    "            keep_prob : 0.5\n",
    "        }\n",
    "        \n",
    "        _, l, predictions = session.run([optimizer, loss, train_prediction], feed_dict = feed_dict)\n",
    "        \n",
    "        if (step % 500 == 0):\n",
    "            print(\"Minibatch loss at step {}: {}\".format(step, l))\n",
    "            print(\"Minibatch accuracy: {:.1f}\".format(accuracy(predictions, batch_labels)))\n",
    "            print(\"Validation accuracy: {:.1f}\".format(accuracy(valid_prediction.eval(), valid_labels)))\n",
    "    print(\"Test accuracy: {:.1f}\".format(accuracy(test_prediction.eval(), test_labels)))"
   ]
  },
  {
   "cell_type": "code",
   "execution_count": null,
   "metadata": {},
   "outputs": [],
   "source": []
  }
 ],
 "metadata": {
  "colab": {
   "default_view": {},
   "name": "3_regularization.ipynb",
   "provenance": [],
   "version": "0.3.2",
   "views": {}
  },
  "kernelspec": {
   "display_name": "Python 3",
   "language": "python",
   "name": "python3"
  },
  "language_info": {
   "codemirror_mode": {
    "name": "ipython",
    "version": 3
   },
   "file_extension": ".py",
   "mimetype": "text/x-python",
   "name": "python",
   "nbconvert_exporter": "python",
   "pygments_lexer": "ipython3",
   "version": "3.6.8"
  }
 },
 "nbformat": 4,
 "nbformat_minor": 1
}
